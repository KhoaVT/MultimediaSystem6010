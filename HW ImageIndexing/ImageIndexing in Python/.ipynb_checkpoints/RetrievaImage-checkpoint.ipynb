{
 "cells": [
  {
   "cell_type": "code",
   "execution_count": null,
   "metadata": {
    "collapsed": true
   },
   "outputs": [],
   "source": [
    "#Homework: graphic and indexing\n",
    "# Khoa Hoang - Fall 2015\n",
    "#################################\n",
    "import numpy as np\n",
    "import matplotlib.pyplot as plt\n",
    "with open('Image.txt') as file:\n",
    "    array2d=[[int(value1) for value1 in line.split()]for line in file]\n",
    "\n",
    "OriginalImage=np.reshape(array2d,(-1,16))\n",
    "print array2d\n",
    "\n",
    "Temp =[]\n",
    "for row in array2d:\n",
    "    for item in row:\n",
    "        Temp.append(item)\n",
    "print Temp\n",
    "\n",
    "print \"\\n\"\n",
    "\n",
    "pixel= []\n",
    "\n",
    "pixel.append(Temp[0])\n",
    "countInd =[]\n",
    "find = False\n",
    "\n",
    "print pixel\n",
    "print \"\\n\"\n",
    "for var1 in Temp:\n",
    "    find = False\n",
    "    \n",
    "    for i in range(len(pixel)):\n",
    "        if pixel[i] == var1:\n",
    "            find = True\n",
    "            \n",
    "            break\n",
    "        \n",
    "    if find == False:\n",
    "        pixel.append(var1)\n",
    "k = 0\n",
    "for var2 in pixel:\n",
    "    for var3 in Temp:\n",
    "        if var2 == var3:\n",
    "            k += 1\n",
    "    countInd.append(k)\n",
    "    k = 0\n",
    "\n",
    "print pixel\n",
    "print \"\\n\"\n",
    "print countInd\n",
    "\n",
    "#Combining two 1d array to 2d array to keep the counting and to draw a graph\n",
    "combined=[]\n",
    "for i in range(len(pixel)):\n",
    "    combined.append([])\n",
    "    for j in range(2):\n",
    "        if j==0:\n",
    "            combined[i].append(countInd[i])\n",
    "\n",
    "        else:\n",
    "            combined[i].append(pixel[i])\n",
    "\n",
    "#print combined\n",
    "#combined= combined.sort(key=lambda x:x[0])\n",
    "#sorted(combined,key=lambda name:name[0])\n",
    "\n",
    "def getKey(item):\n",
    "    return item[1]\n",
    "combined= sorted(combined,key=getKey)\n",
    "print \"After sorting to have a good value for the graph display\"\n",
    "print combined\n",
    "\n",
    "print '\\n'\n",
    "#Starting drawing a graph of pixel counting\n",
    "#valCom = [(col[0],col[1],col[2])for col in CompareT]\n",
    "\n",
    "y = [col[0] for col in combined]\n",
    "x= [col[1] for col in combined]\n",
    "\n",
    "plt.plot(x,y, ':rs')\n",
    "plt.axis([10,30,0,7]) #10,30 are the x stick; 0,7 is y stick\n",
    "plt.xlabel(\"Pixel value\")\n",
    "plt.ylabel(\"Pixel Count\")\n",
    "plt.show()\n",
    "\n",
    "#Finish"
   ]
  },
  {
   "cell_type": "code",
   "execution_count": null,
   "metadata": {
    "collapsed": true
   },
   "outputs": [],
   "source": []
  },
  {
   "cell_type": "code",
   "execution_count": null,
   "metadata": {
    "collapsed": true
   },
   "outputs": [],
   "source": []
  }
 ],
 "metadata": {
  "kernelspec": {
   "display_name": "Python 2",
   "language": "python",
   "name": "python2"
  },
  "language_info": {
   "codemirror_mode": {
    "name": "ipython",
    "version": 2
   },
   "file_extension": ".py",
   "mimetype": "text/x-python",
   "name": "python",
   "nbconvert_exporter": "python",
   "pygments_lexer": "ipython2",
   "version": "2.7.10"
  }
 },
 "nbformat": 4,
 "nbformat_minor": 0
}
